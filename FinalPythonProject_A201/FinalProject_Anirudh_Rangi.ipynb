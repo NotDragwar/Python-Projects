{
  "cells": [
    {
      "cell_type": "markdown",
      "metadata": {
        "id": "_kV80toeZTp5"
      },
      "source": [
        "## Final Project : A Python Program to Display Calendar\n",
        "\n",
        "\n",
        "The function takes in month_start, year_start, month_end, year_end and returns\n",
        "the range of calendar for the following\n",
        "\n",
        "Example:\n",
        "```\n",
        "print_calendar_in_range(11, 2023, 2, 2024)\n",
        "\n",
        "November 2023\n",
        "Mo Tu We Th Fr Sa Su\n",
        "       1  2  3  4  5\n",
        " 6  7  8  9 10 11 12\n",
        "13 14 15 16 17 18 19\n",
        "20 21 22 23 24 25 26\n",
        "27 28 29 30\n",
        "\n",
        "   December 2023\n",
        "Mo Tu We Th Fr Sa Su\n",
        "             1  2  3\n",
        " 4  5  6  7  8  9 10\n",
        "11 12 13 14 15 16 17\n",
        "18 19 20 21 22 23 24\n",
        "25 26 27 28 29 30 31\n",
        "\n",
        "    January 2024\n",
        "Mo Tu We Th Fr Sa Su\n",
        " 1  2  3  4  5  6  7\n",
        " 8  9 10 11 12 13 14\n",
        "15 16 17 18 19 20 21\n",
        "22 23 24 25 26 27 28\n",
        "29 30 31\n",
        "\n",
        "   February 2024\n",
        "Mo Tu We Th Fr Sa Su\n",
        "          1  2  3  4\n",
        " 5  6  7  8  9 10 11\n",
        "12 13 14 15 16 17 18\n",
        "19 20 21 22 23 24 25\n",
        "26 27 28 29\n",
        "```\n",
        "\n",
        "\n"
      ]
    },
    {
      "cell_type": "code",
      "execution_count": 3,
      "metadata": {
        "id": "fRsXgDj6aRwI"
      },
      "outputs": [],
      "source": [
        "#importing module\n",
        "import calendar\n",
        "\n",
        "def print_calendar_in_range(month_start, year_start, month_end, year_end):\n",
        "    \"\"\"\n",
        "    This function returns the calendar for the range of the parameters provided\n",
        "\n",
        "    Args: int: month_start, year_start, month_end, year_end\n",
        "\n",
        "    returns: calendar for the parameters provided\n",
        "    \"\"\"\n",
        "    # Iterate through each month-year combination in the specified range\n",
        "    for year in range(year_start, year_end + 1):\n",
        "        if year == year_start:\n",
        "          start_month = month_start\n",
        "        else:\n",
        "          start_month = 1\n",
        "\n",
        "        if year == year_end:\n",
        "           end_month = month_end\n",
        "        else:\n",
        "           end_month = 12\n",
        "        for month in range(start_month, end_month + 1):\n",
        "            print(calendar.month(year, month),'\\n')\n",
        "\n",
        "\n",
        "\n"
      ]
    }
  ],
  "metadata": {
    "colab": {
      "provenance": []
    },
    "kernelspec": {
      "display_name": "Python 3",
      "name": "python3"
    },
    "language_info": {
      "name": "python"
    }
  },
  "nbformat": 4,
  "nbformat_minor": 0
}
